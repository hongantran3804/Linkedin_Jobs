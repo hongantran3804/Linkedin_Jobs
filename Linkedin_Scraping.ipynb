{
 "cells": [
  {
   "cell_type": "code",
   "execution_count": 5,
   "metadata": {},
   "outputs": [],
   "source": [
    "from selenium import webdriver\n",
    "from selenium.webdriver import chrome\n",
    "from selenium.webdriver.chrome.service import Service as ChromeService\n",
    "from webdriver_manager.chrome import ChromeDriverManager\n",
    "from selenium.webdriver.common.by import By\n",
    "import pandas as pd\n",
    "import os\n",
    "from selenium.webdriver.common.keys import Keys\n",
    "from selenium.webdriver.support.ui import WebDriverWait\n",
    "from selenium.webdriver.support import expected_conditions as EC\n",
    "import re\n",
    "import pandas as pd\n",
    "import random\n",
    "import numpy as np"
   ]
  },
  {
   "cell_type": "code",
   "execution_count": 212,
   "metadata": {},
   "outputs": [],
   "source": [
    "# options = webdriver.ChromeOptions()\n",
    "# options.add_experimental_option(\"detach\",True)\n",
    "# os.environ['PATH'] += r\"C:/APython/chrome\"\n",
    "driver = webdriver.Chrome(service=ChromeService(ChromeDriverManager().install()))"
   ]
  },
  {
   "cell_type": "code",
   "execution_count": 213,
   "metadata": {},
   "outputs": [],
   "source": [
    "login_page_url = 'https://www.linkedin.com/login?fromSignIn=true&trk=guest_homepage-basic_nav-header-signin'\n",
    "driver.get(login_page_url)"
   ]
  },
  {
   "cell_type": "markdown",
   "metadata": {},
   "source": [
    "### Accessing my Linkedin account\n",
    "This Python code employs the Selenium WebDriver library for automating web interactions, specifically for logging into a webpage, possibly LinkedIn. It intelligently waits for the username and password input fields to be present using WebDriverWait with a 10-second timeout, ensuring a smoother and more reliable automation process. Once these elements are located, it enters your LinkedIn username and password, then submits the login form. This script enhances the reliability of the login automation by patiently waiting for elements to appear before interacting with them."
   ]
  },
  {
   "cell_type": "code",
   "execution_count": 214,
   "metadata": {},
   "outputs": [],
   "source": [
    "WebDriverWait(driver,10).until( #  wait 10s for this to run\n",
    "        EC.presence_of_element_located((By.ID,'username'))\n",
    "    )\n",
    "username = driver.find_element(By.ID,'username')\n",
    "WebDriverWait(driver,10).until( #  wait 10s for this to run\n",
    "        EC.presence_of_element_located((By.ID,'password'))\n",
    "    )\n",
    "password = driver.find_element(By.ID,'password')\n",
    "username.send_keys('MyLinkedin_username')\n",
    "password.send_keys('MyLinkedin_password')\n",
    "username.send_keys(Keys.RETURN)"
   ]
  },
  {
   "cell_type": "markdown",
   "metadata": {},
   "source": [
    "### Searching for Job_Title\n",
    "The implicitly_wait(10) sets a global timeout for the driver to wait for elements, and WebDriverWait is employed to ensure the presence of specific elements with a 10-second timeout.\n",
    "\n",
    "It locates and interacts with the search bar element by waiting for its presence and then entering the search query 'software engineer' and pressing Enter.\n",
    "\n",
    "Another WebDriverWait is used to wait for the presence of a specific filter button related to job searches. Once found, it clicks on this filter button to refine the search.\n",
    "\n",
    "The script then waits for job elements to be present and retrieves them. The found job elements are stored in a set to remove duplicates, and the count of unique job elements is printed."
   ]
  },
  {
   "cell_type": "code",
   "execution_count": 215,
   "metadata": {},
   "outputs": [],
   "source": [
    "driver.implicitly_wait(10)\n",
    "WebDriverWait(driver,10).until( #  wait 10s for this to run\n",
    "        EC.presence_of_element_located((By.CLASS_NAME,'search-global-typeahead__input'))\n",
    "    )\n",
    "search_bar = driver.find_element(By.CLASS_NAME,'search-global-typeahead__input')\n",
    "search_bar.send_keys('software engineer')\n",
    "search_bar.send_keys(Keys.RETURN)"
   ]
  },
  {
   "cell_type": "code",
   "execution_count": 216,
   "metadata": {},
   "outputs": [],
   "source": [
    "WebDriverWait(driver,10).until( #  wait 10s for this to run\n",
    "        EC.presence_of_element_located((By.CLASS_NAME,'artdeco-pill.artdeco-pill--slate.artdeco-pill--choice.artdeco-pill--2.search-reusables__filter-pill-button.search-reusables__filter-pill-button'))\n",
    "    )\n",
    "job_button = driver.find_element(By.CLASS_NAME,'artdeco-pill.artdeco-pill--slate.artdeco-pill--choice.artdeco-pill--2.search-reusables__filter-pill-button.search-reusables__filter-pill-button')\n",
    "job_button.click()"
   ]
  },
  {
   "cell_type": "code",
   "execution_count": 224,
   "metadata": {},
   "outputs": [
    {
     "name": "stdout",
     "output_type": "stream",
     "text": [
      "26\n"
     ]
    }
   ],
   "source": [
    "WebDriverWait(driver,10).until( #  wait 10s for this to run\n",
    "        EC.presence_of_element_located((By.CLASS_NAME,\n",
    "'flex-grow-1.artdeco-entity-lockup__content.ember-view'))\n",
    "    )\n",
    "jobs = driver.find_elements(By.CLASS_NAME,\n",
    "                            'flex-grow-1.artdeco-entity-lockup__content.ember-view')\n",
    "jobs = set(jobs)\n",
    "print(len(jobs))"
   ]
  },
  {
   "cell_type": "markdown",
   "metadata": {},
   "source": [
    "### Get Job info\n",
    "Iterating through a set of job elements, clicks on each job to access its details, and extracts relevant information such as skills required, salary, working status, employee count, industry, title, company name, location, working type, and posting date. The extracted data is then organized into dictionaries and appended to the 'new_job_df' list, creating a dataset of job details for further analysis or processing."
   ]
  },
  {
   "cell_type": "code",
   "execution_count": null,
   "metadata": {},
   "outputs": [],
   "source": [
    "new_job_df = []\n",
    "for job in jobs:\n",
    "    job_dict = {}\n",
    "    job.click()\n",
    "    \n",
    "    skills = []\n",
    "    try:\n",
    "        WebDriverWait(driver,10).until( #  wait 10s for this to run\n",
    "                EC.presence_of_element_located((By.CLASS_NAME,'display-flex.flex-column.overflow-hidden'))\n",
    "            )\n",
    "        get_skills = driver.find_elements(By.CLASS_NAME,\"display-flex.flex-column.overflow-hidden\")\n",
    "    \n",
    "        unfiltered_skills = []\n",
    "        for ele in get_skills:\n",
    "            get = ele.find_element(By.TAG_NAME,'a')\n",
    "            get = get.text.replace('and',',')\n",
    "            unfiltered_skills += get.split(',')\n",
    "        for ele in unfiltered_skills:\n",
    "            ele = ele.replace(' ','')\n",
    "            if ele != '':\n",
    "                \n",
    "                skills.append(ele)\n",
    "    except:\n",
    "        skills = []\n",
    "    salary = ''\n",
    "    try: \n",
    "        WebDriverWait(driver,10).until( #  wait 10s for this to run\n",
    "                EC.presence_of_element_located((By.CLASS_NAME,'job-details-jobs-unified-top-card__job-insight'))\n",
    "            )\n",
    "        sal_type = driver.find_element(By.CLASS_NAME,'job-details-jobs-unified-top-card__job-insight')\n",
    "        sal_type = sal_type.find_element(By.TAG_NAME,'span')\n",
    "        if 'yr' in sal_type.text.split('·')[0]:\n",
    "            salary = sal_type.text.split('·')[0]\n",
    "    except:\n",
    "        salary = ''\n",
    "    working_status = ''\n",
    "    try:\n",
    "        WebDriverWait(driver,10).until( #  wait 10s for this to run\n",
    "                EC.presence_of_element_located((By.CLASS_NAME,'job-details-jobs-unified-top-card__job-insight'))\n",
    "            )\n",
    "        sal_type = driver.find_element(By.CLASS_NAME,'job-details-jobs-unified-top-card__job-insight')\n",
    "        sal_type = driver.find_element(By.TAG_NAME,'span')\n",
    "        working_status = sal_type.text.split('·')[1]\n",
    "    except:\n",
    "        working_status = 'Full-time'\n",
    "\n",
    "    employee = ''\n",
    "    try:\n",
    "        WebDriverWait(driver,10).until( #  wait 10s for this to run\n",
    "                EC.presence_of_element_located((By.CLASS_NAME,'job-details-jobs-unified-top-card__job-insight'))\n",
    "            )\n",
    "        emp_indus = driver.find_elements(By.CLASS_NAME,'job-details-jobs-unified-top-card__job-insight')\n",
    "        emp_indus = emp_indus[1]\n",
    "        emp_indus = emp_indus.find_element(By.TAG_NAME,'span')\n",
    "        if 'employee' in emp_indus.text.split('·')[0]:\n",
    "            employee = emp_indus.text.split('·')[0]\n",
    "    except:\n",
    "        employee = ''\n",
    "    industry = ''\n",
    "    try:\n",
    "        WebDriverWait(driver,10).until( #  wait 10s for this to run\n",
    "                EC.presence_of_element_located((By.CLASS_NAME,'job-details-jobs-unified-top-card__job-insight'))\n",
    "            )\n",
    "        emp_indus = driver.find_elements(By.CLASS_NAME,'job-details-jobs-unified-top-card__job-insight')\n",
    "        emp_indus = emp_indus[1]\n",
    "        emp_indus = emp_indus.find_element(By.TAG_NAME,'span')\n",
    "        industry = emp_indus.text.split('·')[1]\n",
    "    except:\n",
    "        industry = ''\n",
    "    title = 'Software Engineer'\n",
    "\n",
    "    company_name = ''\n",
    "    try:\n",
    "        WebDriverWait(driver,10).until( #  wait 10s for this to run\n",
    "                EC.presence_of_element_located((By.CLASS_NAME,'job-details-jobs-unified-top-card__primary-description'))\n",
    "            )\n",
    "        get_info = driver.find_element(By.CLASS_NAME,'job-details-jobs-unified-top-card__primary-description')\n",
    "        company_name = get_info.text.split('·')[0]\n",
    "    except:\n",
    "        company_name = ''\n",
    "\n",
    "    location = ''\n",
    "    working_type = 'On-site'\n",
    "    type_ = ['hybrid','remote','on-site'] \n",
    "    try:\n",
    "        WebDriverWait(driver,10).until( #  wait 10s for this to run\n",
    "                EC.presence_of_element_located((By.CLASS_NAME,'job-details-jobs-unified-top-card__primary-description'))\n",
    "            )\n",
    "        get_info = driver.find_element(By.CLASS_NAME,'job-details-jobs-unified-top-card__primary-description')\n",
    "        get_info = get_info.text.split('·')[1].split(' ')\n",
    "        for ele in get_info:\n",
    "            ele = ele.replace('(','')\n",
    "            ele = ele.replace(')','')\n",
    "            if ele.lower() not in type_:\n",
    "                location += ele + \" \"\n",
    "            if ele.lower() in type_:\n",
    "                working_type = ele\n",
    "                break\n",
    "        location = location.rstrip(location[-1])\n",
    "    except:\n",
    "        location = ''\n",
    "        \n",
    "    date = ''\n",
    "    try:\n",
    "        WebDriverWait(driver,10).until( #  wait 10s for this to run\n",
    "                EC.presence_of_element_located((By.CLASS_NAME,'job-details-jobs-unified-top-card__primary-description'))\n",
    "            )\n",
    "        get_info = driver.find_element(By.CLASS_NAME,'job-details-jobs-unified-top-card__primary-description')\n",
    "        get_info = get_info.text.split('·')[1].split(' ')\n",
    "        sig = 0\n",
    "        for ele in get_info:\n",
    "            ele = ele.replace('(','')\n",
    "            ele = ele.replace(')','')\n",
    "            if ele.isdigit():\n",
    "                sig = 1\n",
    "            if sig:\n",
    "                date += ele + ' '\n",
    "        date = date.rstrip(date[-1])\n",
    "    except:\n",
    "        date = ''\n",
    "    job_dict = {\n",
    "        'Job_Title':title,\n",
    "        'Company_Name':company_name,\n",
    "        'Salary':salary,\n",
    "        'Working_Status':working_status,\n",
    "        'Working_Type':working_type,\n",
    "        'Skills':skills,\n",
    "        'Employee':employee,\n",
    "        'Industry':industry,\n",
    "        'Location':location,\n",
    "        'Date':date,\n",
    "    }\n",
    "    new_job_df.append(job_dict)\n"
   ]
  },
  {
   "cell_type": "markdown",
   "metadata": {},
   "source": [
    "### Fixing data\n",
    "Employing a try-except approach to handle potential errors during the extraction process. The script iterates through job elements, clicking on each to gather information like skills, salary, working status, industry, title, company name, location, working type, and posting date. The data is structured into dictionaries and added to the 'new_job_df' list for further analysis, ensuring a more resilient scraping process in the dynamic LinkedIn environment."
   ]
  },
  {
   "cell_type": "code",
   "execution_count": 6,
   "metadata": {},
   "outputs": [],
   "source": [
    "df = pd.read_csv(\"Initial_Linkedin.csv\")"
   ]
  },
  {
   "cell_type": "markdown",
   "metadata": {},
   "source": [
    "### Enhance the generality of job titles for analysis"
   ]
  },
  {
   "cell_type": "code",
   "execution_count": 7,
   "metadata": {},
   "outputs": [],
   "source": [
    "index = 0\n",
    "for ele in df['Job_Title']:\n",
    "    title = \"\"\n",
    "    if 'scien' in ele.lower():\n",
    "        title = \"Data Scientist\"\n",
    "    if \"engin\" in ele.lower() or \"develop\" in ele.lower():\n",
    "        if \"data\" in ele.lower():\n",
    "            title = \"Data Engineer\"\n",
    "        else:\n",
    "            title = \"Software Engineer\"\n",
    "    if \"analy\" in ele.lower():\n",
    "        title = \"Data Analyst\"\n",
    "    if \"intern\" in ele.lower():\n",
    "        title = title + \" intern\"\n",
    "    df.replace({df.loc[index, 'Job_Title']:title},inplace = True)\n",
    "    index = index + 1"
   ]
  },
  {
   "cell_type": "markdown",
   "metadata": {},
   "source": [
    "### Address rows lacking salary information"
   ]
  },
  {
   "cell_type": "markdown",
   "metadata": {},
   "source": [
    "Calculating the average salary of each job instead of salary range"
   ]
  },
  {
   "cell_type": "code",
   "execution_count": 8,
   "metadata": {},
   "outputs": [],
   "source": [
    "for i in range(len(df['Salary'])):\n",
    "    if (df.loc[i, 'Salary'] != np.nan):\n",
    "        sum = 0\n",
    "        for ele in str(df.loc[i, 'Salary']).split('-'):\n",
    "            num = ''\n",
    "            for j in range(len(ele)):\n",
    "                if ele[j].isdigit():\n",
    "                    num += ele[j];\n",
    "            if num != '':\n",
    "                sum += int(num)\n",
    "        df.loc[i, 'Salary'] = int(sum/2)\n",
    "        "
   ]
  },
  {
   "cell_type": "markdown",
   "metadata": {},
   "source": [
    "Fill in row that does not have salary with random class with value between the maximum salary of that job title and the minimum one"
   ]
  },
  {
   "cell_type": "code",
   "execution_count": 9,
   "metadata": {},
   "outputs": [],
   "source": [
    "\n",
    "for i in range(len(df['Salary'])):\n",
    "    if df.loc[i,'Salary'] == 0:\n",
    "        salary_summary = df[df['Job_Title'] == df.loc[i,'Job_Title']]['Salary']\n",
    "        df.loc[i, 'Salary'] = random.randint(salary_summary.min(),salary_summary.max())"
   ]
  },
  {
   "cell_type": "code",
   "execution_count": 10,
   "metadata": {},
   "outputs": [
    {
     "data": {
      "text/html": [
       "<div>\n",
       "<style scoped>\n",
       "    .dataframe tbody tr th:only-of-type {\n",
       "        vertical-align: middle;\n",
       "    }\n",
       "\n",
       "    .dataframe tbody tr th {\n",
       "        vertical-align: top;\n",
       "    }\n",
       "\n",
       "    .dataframe thead th {\n",
       "        text-align: right;\n",
       "    }\n",
       "</style>\n",
       "<table border=\"1\" class=\"dataframe\">\n",
       "  <thead>\n",
       "    <tr style=\"text-align: right;\">\n",
       "      <th></th>\n",
       "      <th>Job_Title</th>\n",
       "      <th>Salary</th>\n",
       "    </tr>\n",
       "  </thead>\n",
       "  <tbody>\n",
       "  </tbody>\n",
       "</table>\n",
       "</div>"
      ],
      "text/plain": [
       "Empty DataFrame\n",
       "Columns: [Job_Title, Salary]\n",
       "Index: []"
      ]
     },
     "execution_count": 10,
     "metadata": {},
     "output_type": "execute_result"
    }
   ],
   "source": [
    "df[df['Salary'] == 0][['Job_Title','Salary']]"
   ]
  },
  {
   "cell_type": "markdown",
   "metadata": {},
   "source": [
    "Get salary for data scientist intern"
   ]
  },
  {
   "cell_type": "code",
   "execution_count": 11,
   "metadata": {},
   "outputs": [],
   "source": [
    "df.loc[1572,'Job_Title'] = \"Data Scientist intern\"\n"
   ]
  },
  {
   "cell_type": "code",
   "execution_count": 12,
   "metadata": {},
   "outputs": [],
   "source": [
    "for index in range(len(df['Job_Title'])):\n",
    "    if df.loc[index, 'Job_Title'] == \"Data Scientist intern\":\n",
    "        df.loc[index, 'Salary'] = random.randint(40000,70000)\n",
    "    index += 1\n",
    "    "
   ]
  },
  {
   "cell_type": "code",
   "execution_count": 13,
   "metadata": {},
   "outputs": [],
   "source": [
    "df.to_csv(\"Fixed_Linkedin.csv\")"
   ]
  }
 ],
 "metadata": {
  "kernelspec": {
   "display_name": "Python 3",
   "language": "python",
   "name": "python3"
  },
  "language_info": {
   "codemirror_mode": {
    "name": "ipython",
    "version": 3
   },
   "file_extension": ".py",
   "mimetype": "text/x-python",
   "name": "python",
   "nbconvert_exporter": "python",
   "pygments_lexer": "ipython3",
   "version": "3.11.6"
  },
  "orig_nbformat": 4
 },
 "nbformat": 4,
 "nbformat_minor": 2
}
